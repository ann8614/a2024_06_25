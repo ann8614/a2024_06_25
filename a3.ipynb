{
 "cells": [
  {
   "cell_type": "code",
   "execution_count": 2,
   "metadata": {},
   "outputs": [
    {
     "name": "stdout",
     "output_type": "stream",
     "text": [
      "對邊:20.0,斜邊:50.0,角度:23.58\n"
     ]
    }
   ],
   "source": [
    "import math\n",
    "a = float(input('請輸入對邊'))\n",
    "b = float(input('請輸入斜邊'))\n",
    "r = math.asin(a / b)\n",
    "d = math.degrees(r)\n",
    "print(f\"對邊:{a},斜邊:{b},角度:{round(d,ndigits=2)}\" )"
   ]
  },
  {
   "cell_type": "code",
   "execution_count": 10,
   "metadata": {},
   "outputs": [
    {
     "name": "stdout",
     "output_type": "stream",
     "text": [
      "5.94418483337567\n",
      "1.8257418583505538\n"
     ]
    }
   ],
   "source": [
    "import statistics\n",
    "\n",
    "statistics.mean([0,5,9,14])\n",
    "statistics.mean([5,6,8,9])\n",
    "\n",
    "print(statistics.stdev([0, 5, 9, 14]))\n",
    "print(statistics.stdev([5, 6, 8, 9]))"
   ]
  },
  {
   "cell_type": "code",
   "execution_count": 12,
   "metadata": {},
   "outputs": [
    {
     "data": {
      "text/plain": [
       "10.0"
      ]
     },
     "execution_count": 12,
     "metadata": {},
     "output_type": "execute_result"
    }
   ],
   "source": [
    "m = 10\n",
    "m += 30\n",
    "m /= 4\n",
    "m"
   ]
  }
 ],
 "metadata": {
  "kernelspec": {
   "display_name": "Python 3",
   "language": "python",
   "name": "python3"
  },
  "language_info": {
   "codemirror_mode": {
    "name": "ipython",
    "version": 3
   },
   "file_extension": ".py",
   "mimetype": "text/x-python",
   "name": "python",
   "nbconvert_exporter": "python",
   "pygments_lexer": "ipython3",
   "version": "3.12.3"
  }
 },
 "nbformat": 4,
 "nbformat_minor": 2
}
