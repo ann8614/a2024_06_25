{
 "cells": [
  {
   "cell_type": "code",
   "execution_count": 1,
   "metadata": {},
   "outputs": [
    {
     "name": "stdout",
     "output_type": "stream",
     "text": [
      "對邊: 20.0 斜邊: 50.0 角度: 23.58\n"
     ]
    }
   ],
   "source": [
    "import math\n",
    "a = float(input('請輸入對邊'))\n",
    "b = float(input('請輸入斜邊'))\n",
    "r = math.asin(a / b)\n",
    "d = math.degrees(r)\n",
    "print(\"對邊:\",a,\"斜邊:\",b,\"角度:\",round(d,ndigits=2))"
   ]
  }
 ],
 "metadata": {
  "kernelspec": {
   "display_name": "Python 3",
   "language": "python",
   "name": "python3"
  },
  "language_info": {
   "codemirror_mode": {
    "name": "ipython",
    "version": 3
   },
   "file_extension": ".py",
   "mimetype": "text/x-python",
   "name": "python",
   "nbconvert_exporter": "python",
   "pygments_lexer": "ipython3",
   "version": "3.12.3"
  }
 },
 "nbformat": 4,
 "nbformat_minor": 2
}
