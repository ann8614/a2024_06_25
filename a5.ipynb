{
 "cells": [
  {
   "cell_type": "code",
   "execution_count": null,
   "metadata": {},
   "outputs": [],
   "source": [
    "import pyinputplus as pyip\n",
    "age = pyip.inputInt(\"請輸入age:\",min=5,max=100)\n",
    "#雙項選擇,只執行其中一個程式區塊\n",
    "if age >= 18:\n",
    "    print(\"有投票權\")\n",
    "else:\n",
    "    print(\"沒有投票權\")"
   ]
  },
  {
   "cell_type": "code",
   "execution_count": 12,
   "metadata": {},
   "outputs": [
    {
     "name": "stdout",
     "output_type": "stream",
     "text": [
      "學生分數是220\n"
     ]
    }
   ],
   "source": [
    "#學生總分為300\n",
    "#有些學生可以加分5%\n",
    "try :\n",
    "    scores = int(input(\"請輸入學生分數(最高300分)\"))\n",
    "    is_add = input(\"學生是曾否符合加分條件?(y,n)\")\n",
    "\n",
    "    if is_add == \"y\": #單項選擇\n",
    "        scores *= 1.05\n",
    "        if scores > 300 :\n",
    "            scores = 300 \n",
    "    print(f\"學生分數是{round(scores)}\")\n",
    "except ValueError :\n",
    "    print('int錯誤')\n",
    "except Exception:\n",
    "    print(\"其他錯誤\")"
   ]
  },
  {
   "cell_type": "code",
   "execution_count": 21,
   "metadata": {},
   "outputs": [
    {
     "name": "stdout",
     "output_type": "stream",
     "text": [
      "int錯誤\n",
      "學生分數是250\n"
     ]
    }
   ],
   "source": [
    "while True :\n",
    "    try :\n",
    "        scores = int(input(\"請輸入學生分數(最高300分)\"))\n",
    "        if scores < 0 :\n",
    "            print('不能負數')\n",
    "        else:\n",
    "            if scores > 300 :\n",
    "                 print('不能大於300')\n",
    "                     break\n",
    "    except ValueError :\n",
    "        print('int錯誤')\n",
    "    except Exception:\n",
    "        print(\"其他錯誤\")\n",
    "    \n",
    "is_add = input(\"學生是曾否符合加分條件?(y,n)\")\n",
    "\n",
    "if is_add == \"y\": #單項選擇\n",
    "    scores *= 1.05\n",
    "    if scores > 300 :\n",
    "        scores = 300 \n",
    "print(f\"學生分數是{round(scores)}\")        "
   ]
  },
  {
   "cell_type": "code",
   "execution_count": null,
   "metadata": {},
   "outputs": [],
   "source": [
    "try :\n",
    "    a=int(input('金額'))\n",
    "except ValueError :\n",
    "    print('錯誤')\n",
    "except Exception:\n",
    "    print(\"不知名的錯誤\")\n",
    "else:\n",
    "    print(a)"
   ]
  },
  {
   "cell_type": "code",
   "execution_count": 3,
   "metadata": {},
   "outputs": [
    {
     "ename": "SyntaxError",
     "evalue": "expected 'except' or 'finally' block (3516933857.py, line 10)",
     "output_type": "error",
     "traceback": [
      "\u001b[0;36m  Cell \u001b[0;32mIn[3], line 10\u001b[0;36m\u001b[0m\n\u001b[0;31m    break\u001b[0m\n\u001b[0m    ^\u001b[0m\n\u001b[0;31mSyntaxError\u001b[0m\u001b[0;31m:\u001b[0m expected 'except' or 'finally' block\n"
     ]
    }
   ],
   "source": [
    "#學生總分為300\n",
    "#有些學生可以加分5%\n",
    "while True:\n",
    "    try:\n",
    "        scores = int(input(\"請輸入學生分數(最高300分)\"))\n",
    "        if scores < 0:\n",
    "            raise Exception(\"分數不可以小於0\")\n",
    "        if scores > 300:\n",
    "            raise Exception(\"分數不可以大於300\")\n",
    "    break\n",
    "            \n",
    "    except ValueError:\n",
    "        print(\"轉換int錯誤\")\n",
    "    except Exception as e:\n",
    "        print(e)\n",
    "\n",
    "\n",
    "is_add = input(\"學生是曾否符合加分條件?(y,n)\")\n",
    "\n",
    "if is_add == \"y\": #單項選擇\n",
    "    scores *= 1.05\n",
    "    if scores > 300:\n",
    "        scores = 300\n",
    "\n",
    "print(f\"學生分數是{round(scores)}\")"
   ]
  }
 ],
 "metadata": {
  "kernelspec": {
   "display_name": "Python 3",
   "language": "python",
   "name": "python3"
  },
  "language_info": {
   "codemirror_mode": {
    "name": "ipython",
    "version": 3
   },
   "file_extension": ".py",
   "mimetype": "text/x-python",
   "name": "python",
   "nbconvert_exporter": "python",
   "pygments_lexer": "ipython3",
   "version": "3.12.3"
  }
 },
 "nbformat": 4,
 "nbformat_minor": 2
}
